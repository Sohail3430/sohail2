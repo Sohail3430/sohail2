{
  "nbformat": 4,
  "nbformat_minor": 0,
  "metadata": {
    "colab": {
      "name": "Untitled",
      "provenance": [],
      "authorship_tag": "ABX9TyPli7VhxBk8hnhrOZxHV5MU",
      "include_colab_link": true
    },
    "kernelspec": {
      "name": "python3",
      "display_name": "Python 3"
    },
    "language_info": {
      "name": "python"
    }
  },
  "cells": [
    {
      "cell_type": "markdown",
      "metadata": {
        "id": "view-in-github",
        "colab_type": "text"
      },
      "source": [
        "<a href=\"https://colab.research.google.com/github/Sohail3430/sohail2/blob/main/Untitled.ipynb\" target=\"_parent\"><img src=\"https://colab.research.google.com/assets/colab-badge.svg\" alt=\"Open In Colab\"/></a>"
      ]
    },
    {
      "cell_type": "markdown",
      "source": [
        ""
      ],
      "metadata": {
        "id": "fnFUXlwbN82U"
      }
    },
    {
      "cell_type": "markdown",
      "source": [
        "#Myself\n",
        "\n",
        "my name is **Sohail Nawaz**. I enjoy watching Basketball my favorite players to watch are:\n",
        " \n",
        " 1.**Giannis Antetokumpo**\n",
        " 2.**Lebron James**\n",
        " 3.**Lamelo Ball**\n",
        " 4.**Devin booker**\n",
        "\n",
        " Here is one of my favorite players to watch. [check out link](https://www.espn.com/nba/player/_/id/3032977/giannis-antetokounmpo) "
      ],
      "metadata": {
        "id": "skowvJ_3a8yQ"
      }
    }
  ]
}