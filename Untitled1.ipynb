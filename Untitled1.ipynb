{
  "nbformat": 4,
  "nbformat_minor": 0,
  "metadata": {
    "colab": {
      "name": "Untitled1.ipynb",
      "provenance": [],
      "authorship_tag": "ABX9TyPy5ZB3jnjIikH95UK5I4Nh",
      "include_colab_link": true
    },
    "kernelspec": {
      "name": "python3",
      "display_name": "Python 3"
    },
    "language_info": {
      "name": "python"
    }
  },
  "cells": [
    {
      "cell_type": "markdown",
      "metadata": {
        "id": "view-in-github",
        "colab_type": "text"
      },
      "source": [
        "<a href=\"https://colab.research.google.com/github/Sohail3430/sohail2/blob/main/Untitled1.ipynb\" target=\"_parent\"><img src=\"https://colab.research.google.com/assets/colab-badge.svg\" alt=\"Open In Colab\"/></a>"
      ]
    },
    {
      "cell_type": "markdown",
      "source": [
        "HW4"
      ],
      "metadata": {
        "id": "fNHft6DOTrVl"
      }
    },
    {
      "cell_type": "code",
      "execution_count": 5,
      "metadata": {
        "colab": {
          "base_uri": "https://localhost:8080/"
        },
        "id": "-0oqz3G6TgFN",
        "outputId": "9465b2c4-b3f8-499c-ef05-c6d599654aca"
      },
      "outputs": [
        {
          "output_type": "stream",
          "name": "stdout",
          "text": [
            "How many would you like to purchace34\n",
            "The discount is 20.0%\n",
            "The total price is $2,692.80\n"
          ]
        }
      ],
      "source": [
        "item_price = 99\n",
        "amount = 0\n",
        "discount = 0\n",
        "total_price = 0\n",
        "\n",
        "amount = int(input(\"How many would you like to purchace\"))\n",
        "\n",
        "if (amount >=10 and amount<= 19):\n",
        "  discount = .1\n",
        "elif (amount >=20 and amount<= 49):\n",
        "  discount = .2\n",
        "elif (amount >=50 and amount<= 99):\n",
        "  discount = .3\n",
        "elif (amount >=100):\n",
        "  discount = .4 \n",
        "#print the discount\n",
        "print(f\"The discount is {discount*100}%\")\n",
        "\n",
        "#calculate and print total price\n",
        "total_price = amount*item_price*(1-discount)\n",
        "print(f\"The total price is ${total_price:,.2f}\")"
      ]
    },
    {
      "cell_type": "markdown",
      "source": [
        "## HW 4 - Question 2\n"
      ],
      "metadata": {
        "id": "qkwUlpuFZl27"
      }
    },
    {
      "cell_type": "code",
      "source": [
        "weight = 0\n",
        "rate_per_pound = 0\n",
        "\n",
        "weight = float(input(\"How much does your package weigh? \"))\n",
        "\n",
        "if(weight <= 2):\n",
        "  rate_per_pound = 1.5\n",
        "elif (weight >2 and weight <= 6):\n",
        "  rate_per_pound = 3\n",
        "elif(weight >6 and weight <= 10):\n",
        "  rate_per_pound = 4\n",
        "elif (weight > 10):\n",
        "  rate_per_pound = 4.75\n",
        "\n",
        "print(f\"The rate is ${rate_per_pound:.2f}\")"
      ],
      "metadata": {
        "colab": {
          "base_uri": "https://localhost:8080/"
        },
        "id": "wIA_k1EVXHor",
        "outputId": "fe07904f-757e-429b-bec4-404f4e6b3e4e"
      },
      "execution_count": 16,
      "outputs": [
        {
          "output_type": "stream",
          "name": "stdout",
          "text": [
            "How much does your package weigh? 3\n",
            "The rate is $3.00\n"
          ]
        }
      ]
    }
  ]
}