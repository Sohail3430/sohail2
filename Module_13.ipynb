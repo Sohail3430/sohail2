{
  "nbformat": 4,
  "nbformat_minor": 0,
  "metadata": {
    "colab": {
      "name": "Module 13",
      "provenance": [],
      "authorship_tag": "ABX9TyPmyITd3keWS4V3rGUIfS60",
      "include_colab_link": true
    },
    "kernelspec": {
      "name": "python3",
      "display_name": "Python 3"
    },
    "language_info": {
      "name": "python"
    }
  },
  "cells": [
    {
      "cell_type": "markdown",
      "metadata": {
        "id": "view-in-github",
        "colab_type": "text"
      },
      "source": [
        "<a href=\"https://colab.research.google.com/github/Sohail3430/sohail2/blob/main/Module_13.ipynb\" target=\"_parent\"><img src=\"https://colab.research.google.com/assets/colab-badge.svg\" alt=\"Open In Colab\"/></a>"
      ]
    },
    {
      "cell_type": "markdown",
      "source": [
        "## **Metrics**\n",
        "\n",
        "1.Explain in words what accuracy, precision, and recall are.  Describe a situation when you would prefer one to another and where the shortcomings to each lays.\n",
        "\n",
        "2.What is a confusion matrix?\n",
        "\n",
        "3.Write the python code for accuracy, precision, recall, and F1\n",
        "\n",
        "4.Give your own example of a type 1 and type 2 error\n",
        "\n",
        "5.Why do we use train.test,split() function from Python when analyzing data?  \n",
        "\n",
        "6.What is the point of splitting data?\n",
        "\n",
        "7.What is the bias vs. variance tradeoff?"
      ],
      "metadata": {
        "id": "Vg9T0C2HslkX"
      }
    },
    {
      "cell_type": "markdown",
      "source": [
        "**Accuracy**: Accuracy tells us how often we can expect our machine learning model will correctly predict an outcome out of the total number of times it made predictions.\n",
        "\n",
        "**Precision**: Precision is used in conjunction with the recall to trade-off false positives and false negatives. It measures the proportion of positively predicted labels that are actually correct.\n",
        "\n",
        "**Recall**: Recall score represents the model’s ability to correctly predict the positives out of actual positives. It measures how good our machine learning model is at identifying all actual positives out of all positives that exist within a dataset.\n",
        "\n",
        "**Confusion Matrix**: This is used to describe the performance of a classification model on a set of data."
      ],
      "metadata": {
        "id": "1J_raZxRyihz"
      }
    },
    {
      "cell_type": "code",
      "execution_count": 1,
      "metadata": {
        "id": "2vmhS-5soPNH",
        "colab": {
          "base_uri": "https://localhost:8080/"
        },
        "outputId": "878d0d29-60a5-415a-e731-0ea0cbf6f06c"
      },
      "outputs": [
        {
          "output_type": "execute_result",
          "data": {
            "text/plain": [
              "2"
            ]
          },
          "metadata": {},
          "execution_count": 1
        }
      ],
      "source": [
        "## Accuracy example\n",
        "from sklearn.metrics import accuracy_score\n",
        "y_pred = [0, 2, 1, 3]\n",
        "y_true = [0, 1, 2, 3]\n",
        "accuracy_score(y_true, y_pred)\n",
        "accuracy_score(y_true, y_pred, normalize=False)"
      ]
    },
    {
      "cell_type": "code",
      "source": [
        "## Precision example\n",
        "from sklearn.metrics import precision_score\n",
        "y_true = [0, 1, 2, 0, 1, 2]\n",
        "y_pred = [0, 2, 1, 0, 0, 1]\n",
        "precision_score(y_true, y_pred, average='macro')"
      ],
      "metadata": {
        "colab": {
          "base_uri": "https://localhost:8080/"
        },
        "id": "LLB7RuD4yz_a",
        "outputId": "d785dc30-002d-4c14-dc38-1e0430c12550"
      },
      "execution_count": 3,
      "outputs": [
        {
          "output_type": "execute_result",
          "data": {
            "text/plain": [
              "0.2222222222222222"
            ]
          },
          "metadata": {},
          "execution_count": 3
        }
      ]
    },
    {
      "cell_type": "code",
      "source": [
        "## Recall example\n",
        "from sklearn.metrics import recall_score\n",
        "y_true = [0, 1, 2, 0, 1, 2]\n",
        "y_pred = [0, 2, 1, 0, 0, 1]\n",
        "recall_score(y_true, y_pred, average='macro')"
      ],
      "metadata": {
        "colab": {
          "base_uri": "https://localhost:8080/"
        },
        "id": "lHyk5eYRyuV5",
        "outputId": "bf92944d-6687-4dc3-bc65-b5c81bfc69aa"
      },
      "execution_count": 2,
      "outputs": [
        {
          "output_type": "execute_result",
          "data": {
            "text/plain": [
              "0.3333333333333333"
            ]
          },
          "metadata": {},
          "execution_count": 2
        }
      ]
    },
    {
      "cell_type": "code",
      "source": [
        "## F1 example\n",
        "from sklearn.metrics import f1_score\n",
        "y_true = [0, 1, 2, 0, 1, 2]\n",
        "y_pred = [0, 2, 1, 0, 0, 1]\n",
        "f1_score(y_true, y_pred, average='macro')"
      ],
      "metadata": {
        "colab": {
          "base_uri": "https://localhost:8080/"
        },
        "id": "4Cs2UMX9y51q",
        "outputId": "d8f583a8-3f05-48e5-a80a-343bda97eb5a"
      },
      "execution_count": 4,
      "outputs": [
        {
          "output_type": "execute_result",
          "data": {
            "text/plain": [
              "0.26666666666666666"
            ]
          },
          "metadata": {},
          "execution_count": 4
        }
      ]
    },
    {
      "cell_type": "markdown",
      "source": [
        "An example of a type 1 error is a false positive or when u get a result saying you have a cold but you actually dont.\n",
        "\n",
        "An example of a type 2 error is a false negative or when the result says u dont have a cold but you actually do.\n",
        "\n",
        "We use the train_test_split() function to split a dataset into train and test sets to show how well the machine learning model performs.\n",
        "\n",
        "We split the data in order to make sure the prediction performance is unbiased.\n",
        "\n",
        "The bias vs. variance tradeoff: the variance of the parameter estimated across samples can be reduced by increasing the bias in the estimated parameters."
      ],
      "metadata": {
        "id": "HgwpCxZTy-u6"
      }
    }
  ]
}