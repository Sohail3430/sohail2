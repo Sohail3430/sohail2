{
  "nbformat": 4,
  "nbformat_minor": 0,
  "metadata": {
    "colab": {
      "name": "HW Wk 3",
      "provenance": [],
      "authorship_tag": "ABX9TyMDeQyiMhnQpGQUmy2b4csH",
      "include_colab_link": true
    },
    "kernelspec": {
      "name": "python3",
      "display_name": "Python 3"
    },
    "language_info": {
      "name": "python"
    }
  },
  "cells": [
    {
      "cell_type": "markdown",
      "metadata": {
        "id": "view-in-github",
        "colab_type": "text"
      },
      "source": [
        "<a href=\"https://colab.research.google.com/github/Sohail3430/sohail2/blob/main/HW_Wk_3.ipynb\" target=\"_parent\"><img src=\"https://colab.research.google.com/assets/colab-badge.svg\" alt=\"Open In Colab\"/></a>"
      ]
    },
    {
      "cell_type": "markdown",
      "source": [
        "HW WK 3"
      ],
      "metadata": {
        "id": "HujwlAs9R3Yk"
      }
    },
    {
      "cell_type": "markdown",
      "source": [
        "**notes**"
      ],
      "metadata": {
        "id": "sPCTfg2_nE7C"
      }
    },
    {
      "cell_type": "code",
      "execution_count": 11,
      "metadata": {
        "colab": {
          "base_uri": "https://localhost:8080/"
        },
        "outputId": "3aef899d-a0a2-4a7b-a501-a5552d88e6d6",
        "id": "wE4DlrIqYFhF"
      },
      "outputs": [
        {
          "output_type": "stream",
          "name": "stdout",
          "text": [
            "the future value is  703.9988712124658\n"
          ]
        }
      ],
      "source": [
        "principal = 100\n",
        "rate = .05\n",
        "time = 1 \n",
        "\n",
        "FV = principal*(1+rate)**i\n",
        "print(\"the future value is \", FV)"
      ]
    },
    {
      "cell_type": "code",
      "execution_count": 10,
      "metadata": {
        "colab": {
          "base_uri": "https://localhost:8080/"
        },
        "id": "VxEipIQBQbNB",
        "outputId": "5c8c0fc1-cd3d-4633-df2e-fb3f9b7cbcc6"
      },
      "outputs": [
        {
          "output_type": "stream",
          "name": "stdout",
          "text": [
            "0\t$1200.0\n",
            "5\t$2022.069786120001\n",
            "10\t$3407.305183282822\n",
            "15\t$5741.507386005222\n",
            "20\t$9674.773843354986\n",
            "25\t$16302.556563493497\n",
            "30\t$27470.75588629376\n",
            "35\t$46289.821232960654\n",
            "40\t$78001.04076672152\n"
          ]
        }
      ],
      "source": [
        "principal = 1200\n",
        "rate = .11\n",
        "time = 30 \n",
        "\n",
        "for i in range(0,41,5):\n",
        "  FV = principal*(1+rate)**i\n",
        "  print(f'{i}\\t${FV}')"
      ]
    },
    {
      "cell_type": "code",
      "source": [
        ""
      ],
      "metadata": {
        "id": "Qkj-UjeAYRbB"
      },
      "execution_count": null,
      "outputs": []
    },
    {
      "cell_type": "markdown",
      "source": [
        "#HW WK 3\n",
        "\n",
        "This is an investment **calculator**. if you put in the amount inveted, the rate, and the time period then it will be output the return for every five years of that time period.\n",
        "\n",
        "the formula is:\n",
        "\n",
        "> $Future Value = principal*(1+rate)^{time}$"
      ],
      "metadata": {
        "id": "1ty-zDL7a06P"
      }
    },
    {
      "cell_type": "code",
      "execution_count": 14,
      "metadata": {
        "colab": {
          "base_uri": "https://localhost:8080/"
        },
        "outputId": "93bfd688-c28b-4361-bf08-0ecadbd0bf00",
        "id": "3MsV0LzkYTZ2"
      },
      "outputs": [
        {
          "output_type": "stream",
          "name": "stdout",
          "text": [
            "What is the amount per month you will be investing200\n",
            "What rate do you expect to earn yearly?.05\n",
            "How many years do you expect  to hold this investment?30\n",
            "0\t$2400.0\n",
            "5\t$3063.075750000001\n",
            "10\t$3909.3471042658607\n",
            "15\t$4989.427630587285\n",
            "20\t$6367.914492346613\n",
            "25\t$8127.251858158533\n",
            "30\t$10372.661700361603\n"
          ]
        }
      ],
      "source": [
        "#gather the amount invested\n",
        "principal = float (input(\"What is the amount per month you will be investing\"))\n",
        "principal *= 12\n",
        "\n",
        "#find out what the rate is and do data validation to ensure it is a percent\n",
        "rate = float(input(\"What rate do you expect to earn yearly?\"))\n",
        "if(rate > 1):\n",
        "  rate /=100\n",
        "\n",
        "#find out how long this will be for\n",
        "time = int(input(\"How many years do you expect  to hold this investment?\")) \n",
        "\n",
        "#calculate the return for every five years \n",
        "for i in range(0,time+1,5):\n",
        "  FV = principal*(1+rate)**i\n",
        "  print(f'{i}\\t${FV}')"
      ]
    },
    {
      "cell_type": "markdown",
      "source": [
        "Present Value Calculator\n"
      ],
      "metadata": {
        "id": "LQ9-zuYRkbec"
      }
    },
    {
      "cell_type": "code",
      "source": [
        "#gather the amount invested\n",
        "principal = float (input(\"What is the future value\"))\n",
        "\n",
        "#find out what the rate is and do data validation to ensure it is a percent\n",
        "rate = float(input(\"What rate do you expect to earn yearly?\"))\n",
        "if(rate > 1):\n",
        "  rate /=100\n",
        "\n",
        "#find out how long this will be for\n",
        "time = int(input(\"How many years do you expect  to hold this investment?\"))\n",
        "\n",
        "output = principal/(1+rate)**time\n",
        "print(f\"The present value of your invesment is ${output:,.2f}\")"
      ],
      "metadata": {
        "colab": {
          "base_uri": "https://localhost:8080/"
        },
        "id": "_T6SYewSkkKb",
        "outputId": "058e3c32-4aa4-4a93-ae0a-957867c12853"
      },
      "execution_count": 18,
      "outputs": [
        {
          "output_type": "stream",
          "name": "stdout",
          "text": [
            "What is the future value100000\n",
            "What rate do you expect to earn yearly?.11\n",
            "How many years do you expect  to hold this investment?30\n",
            "The present value of your invesment is $4,368.28\n"
          ]
        }
      ]
    }
  ]
}