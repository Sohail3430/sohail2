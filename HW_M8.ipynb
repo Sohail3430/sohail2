{
  "nbformat": 4,
  "nbformat_minor": 0,
  "metadata": {
    "colab": {
      "name": "HW M8",
      "provenance": [],
      "collapsed_sections": [],
      "authorship_tag": "ABX9TyOBc3U7BafDfoJNX/rE3n6Q",
      "include_colab_link": true
    },
    "kernelspec": {
      "name": "python3",
      "display_name": "Python 3"
    },
    "language_info": {
      "name": "python"
    }
  },
  "cells": [
    {
      "cell_type": "markdown",
      "metadata": {
        "id": "view-in-github",
        "colab_type": "text"
      },
      "source": [
        "<a href=\"https://colab.research.google.com/github/Sohail3430/sohail2/blob/main/HW_M8.ipynb\" target=\"_parent\"><img src=\"https://colab.research.google.com/assets/colab-badge.svg\" alt=\"Open In Colab\"/></a>"
      ]
    },
    {
      "cell_type": "markdown",
      "source": [
        "1.Create a function that takes in two numbers and returns the average of those numbers\n",
        "\n",
        "2.Create a function that takes in two numbers and returns the sum from number1 to number2. For example, if it takes in 5 and 8, it would return the sum of 5,6,7,8.\n",
        "\n",
        "3.Create a function that takes in a item_cost, the percentage_off, and the tax.  It should return the total cost of the item.\n",
        "\n",
        "4.Create a function that takes in a number, and outputs all the numbers below it that are prime.\n",
        "\n",
        "5.Create a function that takes in a number, and outputs all the numbers below it that are coprime to it\n",
        "\n",
        "6.Create a function that takes in a number and return how many numbers below it are coprime (use the previous question)\n",
        "\n",
        "7.Create a function that takes in a number and outputs all the numbers below it that are twin primes\n",
        "\n",
        "8.Two people are playing the game rock, paper, scissors.  Create a function that finds the probability of winning for each option using 10,000 trials.  Output said probabilities.\n",
        "\n",
        "9.Create a function that tests the probabilities of the Monty Hall problem.\n"
      ],
      "metadata": {
        "id": "BfP7V1E-eUvU"
      }
    },
    {
      "cell_type": "code",
      "execution_count": null,
      "metadata": {
        "colab": {
          "base_uri": "https://localhost:8080/"
        },
        "id": "s4BcRt5ZW9iW",
        "outputId": "fd934e2a-4a22-47ec-9d19-c447740bcc58"
      },
      "outputs": [
        {
          "output_type": "stream",
          "name": "stdout",
          "text": [
            "3.5\n",
            "0.125\n",
            "4.69\n"
          ]
        }
      ],
      "source": [
        "import numpy as np\n",
        "\n",
        "#avg of two numbers\n",
        "def avg_of_2(x,y):\n",
        "  return (x+y)/2\n",
        "\n",
        " #avg of a list of numbers\n",
        "def avg_of_list(myNums):\n",
        "   total = 0\n",
        "   for i in myNums:\n",
        "     total = total + i\n",
        "     return total/len(myNums)\n",
        "\n",
        "\n",
        "def expectedValue1(info, weight):\n",
        "  return (info @ weights)\n",
        "\n",
        "num_one = 2\n",
        "num_two = 5\n",
        "print(avg_of_2(num_one,num_two))\n",
        "\n",
        "z = [1,2,3,4,5,6,7,8]\n",
        "print(avg_of_list(z))\n",
        "\n",
        "info = np.array([2,3,4,5,6])\n",
        "weights = np.array([.1,.15,.07,.32,.36])\n",
        "print(expectedValue1(info,weights))\n",
        "\n"
      ]
    },
    {
      "cell_type": "code",
      "source": [
        "#the sum of a to b\n",
        "#question 2\n",
        "def sumrange(a,b):\n",
        "  total = 0\n",
        "  for i in range(a,b+1):\n",
        "    total = total + i\n",
        "  return total\n",
        "\n",
        "print(sumrange(5,8))"
      ],
      "metadata": {
        "colab": {
          "base_uri": "https://localhost:8080/"
        },
        "id": "-DQYHy-0bLg_",
        "outputId": "a2815bf3-1c5c-41eb-943d-568b29dfee90"
      },
      "execution_count": 6,
      "outputs": [
        {
          "output_type": "stream",
          "name": "stdout",
          "text": [
            "26\n"
          ]
        }
      ]
    },
    {
      "cell_type": "code",
      "source": [
        "#Create a function that takes in a item_cost, the percentage_off, and the tax. It should return the total cost of the item.\n",
        "def totalcost(cost, tax, percentoff):\n",
        "  total1 = (cost -(cost * percentoff))\n",
        "  total2 = (total1 -(total1 * tax))\n",
        "  return total2\n",
        "\n",
        "totalcost(100,.08,.20)"
      ],
      "metadata": {
        "colab": {
          "base_uri": "https://localhost:8080/"
        },
        "id": "VjvjVH2d56cO",
        "outputId": "e663cc07-11dc-4b47-bbe5-8ecff7f69684"
      },
      "execution_count": 5,
      "outputs": [
        {
          "output_type": "execute_result",
          "data": {
            "text/plain": [
              "73.6"
            ]
          },
          "metadata": {},
          "execution_count": 5
        }
      ]
    },
    {
      "cell_type": "code",
      "source": [
        "#output the triangle numbers, or square, or pentoganol numbers\n",
        "def shapeNumbers(shape):\n",
        "  if (shape == \"triangle\"):\n",
        "    skipVal = 1\n",
        "  elif(shape == \"square\"):\n",
        "    skipVal = 2\n",
        "  elif (shape == \"pentagon\"):\n",
        "    skipVal =3\n",
        "\n",
        "  total = 0\n",
        "  for i in range(1,100,skipVal):\n",
        "    total = total + i\n",
        "    print(total,end = \" \")\n",
        "  print()\n",
        "\n",
        "shapeNumbers(\"triangle\")\n",
        "shapeNumbers(\"square\")\n",
        "shapeNumbers(\"pentagon\")"
      ],
      "metadata": {
        "colab": {
          "base_uri": "https://localhost:8080/"
        },
        "id": "3Y7-Lezebp_s",
        "outputId": "0a777a3b-36b3-4519-cb10-5dea0e113ce8"
      },
      "execution_count": null,
      "outputs": [
        {
          "output_type": "stream",
          "name": "stdout",
          "text": [
            "1 3 6 10 15 21 28 36 45 55 66 78 91 105 120 136 153 171 190 210 231 253 276 300 325 351 378 406 435 465 496 528 561 595 630 666 703 741 780 820 861 903 946 990 1035 1081 1128 1176 1225 1275 1326 1378 1431 1485 1540 1596 1653 1711 1770 1830 1891 1953 2016 2080 2145 2211 2278 2346 2415 2485 2556 2628 2701 2775 2850 2926 3003 3081 3160 3240 3321 3403 3486 3570 3655 3741 3828 3916 4005 4095 4186 4278 4371 4465 4560 4656 4753 4851 4950 \n",
            "1 4 9 16 25 36 49 64 81 100 121 144 169 196 225 256 289 324 361 400 441 484 529 576 625 676 729 784 841 900 961 1024 1089 1156 1225 1296 1369 1444 1521 1600 1681 1764 1849 1936 2025 2116 2209 2304 2401 2500 \n",
            "1 5 12 22 35 51 70 92 117 145 176 210 247 287 330 376 425 477 532 590 651 715 782 852 925 1001 1080 1162 1247 1335 1426 1520 1617 \n"
          ]
        }
      ]
    },
    {
      "cell_type": "code",
      "source": [
        "#list of primes below some in \n",
        "#\n",
        "def isPrime(number):\n",
        "  for i in range(2,number):\n",
        "    if(number%i == 0):\n",
        "      return False\n",
        "  return True\n",
        "\n",
        "def listPrimes(number):\n",
        "  for i in range(2,number+1):\n",
        "    if(isPrime(i)):\n",
        "      print(i, end = \" \")\n",
        "\n",
        "listPrimes(100)"
      ],
      "metadata": {
        "colab": {
          "base_uri": "https://localhost:8080/"
        },
        "id": "9_9MDRM6etxa",
        "outputId": "0299a1f5-7c06-4d67-aea8-35df1695c436"
      },
      "execution_count": null,
      "outputs": [
        {
          "output_type": "stream",
          "name": "stdout",
          "text": [
            "2 3 5 7 11 13 17 19 23 29 31 37 41 43 47 53 59 61 67 71 73 79 83 89 97 "
          ]
        }
      ]
    },
    {
      "cell_type": "code",
      "source": [
        "#list all numbers below that are cpPrime to it\n",
        "#coprime means that a and b only share 1 as a divisor\n",
        "#tfor instance 12 shares only a 1 with 1,5,7 and 11\n",
        "#the key here is to brak down the problem into multiple functions\n",
        "def isCoprime(a,b):\n",
        "  #make sure a < b\n",
        "  if(a > b):\n",
        "    holder = abs\n",
        "    a = b\n",
        "    b = holder\n",
        "\n",
        "    for i in range(2,a+1):\n",
        "      if(a%i ==0 and b%i ==0):\n",
        "        return False\n",
        "    return True\n",
        "\n",
        "def listCoprimes(num):\n",
        "  for i in range(num):\n",
        "    if(isCoprime(i,num)):\n",
        "      print(i, end= \" \")\n",
        "\n",
        "listCoprimes(12)"
      ],
      "metadata": {
        "id": "8J59TF1XfXOW"
      },
      "execution_count": null,
      "outputs": []
    },
    {
      "cell_type": "code",
      "source": [
        "#list twin primes\n",
        "\n",
        "def isTwinPrime(s):\n",
        "  if(isPrime(s) and isPrime(s+2)):\n",
        "    return True\n",
        "  return False\n",
        "\n",
        "def listTwinPrimes(number):\n",
        "  for i in range(2,number+1):\n",
        "    if(isTwinPrime(i)):\n",
        "      print(i,i+2)\n",
        "\n",
        "listTwinPrimes(100)"
      ],
      "metadata": {
        "colab": {
          "base_uri": "https://localhost:8080/"
        },
        "id": "OTNQ3fh1pKth",
        "outputId": "250fc3c0-04d8-431f-870f-327c266bce61"
      },
      "execution_count": null,
      "outputs": [
        {
          "output_type": "stream",
          "name": "stdout",
          "text": [
            "3 5\n",
            "5 7\n",
            "11 13\n",
            "17 19\n",
            "29 31\n",
            "41 43\n",
            "59 61\n",
            "71 73\n"
          ]
        }
      ]
    },
    {
      "cell_type": "code",
      "source": [
        "#Two people are playing the game rock, paper, scissors. Create a function that finds the probability of winning for each option using 10,000 trials. Output said probabilities.\n",
        "import random as rnd\n",
        "\n",
        "rock = paper = scissors = 0\n",
        "\n",
        "for i in range(10000):\n",
        "  player1 = rnd.randint(1,3)\n",
        "  player2 = rnd.randint(1,3)\n",
        "\n",
        "  if((player1 == 1 and player2 == 3) or (player2 == 1 and player1 == 3)) :\n",
        "    rock = rock + 1\n",
        "  elif((player1 == 2 and player2 == 1) or (player2 == 2 and player1 == 1)) :\n",
        "    paper = paper + 1\n",
        "  elif((player1 == 3 and player2 == 2) or (player2 == 3 and player1 == 2)) :\n",
        "    scissors = scissors + 1\n",
        "  \n",
        "print(rock/10000)\n",
        "print(paper/10000)\n",
        "print(scissors/10000)\n",
        "print((10000 -(rock + paper + scissors))/10000)"
      ],
      "metadata": {
        "colab": {
          "base_uri": "https://localhost:8080/"
        },
        "id": "Fa1bOEwlrxTb",
        "outputId": "57c91c21-a65c-4756-f474-08bc7a8a6893"
      },
      "execution_count": 11,
      "outputs": [
        {
          "output_type": "stream",
          "name": "stdout",
          "text": [
            "0.2231\n",
            "0.2234\n",
            "0.2192\n",
            "0.3343\n"
          ]
        }
      ]
    },
    {
      "cell_type": "code",
      "source": [
        "#Create a function that tests the probabilities of the Monty Hall problem.\n",
        "#set door 1 and 2 to goat and 3 to prize\n",
        "import random as rnd\n",
        "\n",
        "def nochange():\n",
        "  mylist = [1,2,3]\n",
        "  rnd.shuffle(mylist)\n",
        "\n",
        "  #set up for goats and prize\n",
        "  doors = ['goat','goat', \"goat\"]\n",
        "  doors[mylist.index(3)] = 'prize'\n",
        "\n",
        "  if doors[0] == 'prize':\n",
        "    return True\n",
        "  else:\n",
        "    return False\n",
        "\n",
        "def measurenochange():\n",
        "  total = 0\n",
        "  for i in range(100000):\n",
        "    if(nochange()):\n",
        "      total = total + 1\n",
        "  print(total/100000)\n",
        "\n",
        "measurenochange()\n"
      ],
      "metadata": {
        "colab": {
          "base_uri": "https://localhost:8080/"
        },
        "id": "CyFjHJkHunv2",
        "outputId": "6c5d1073-19b5-4c27-cc26-321015449047"
      },
      "execution_count": 12,
      "outputs": [
        {
          "output_type": "stream",
          "name": "stdout",
          "text": [
            "0.33067\n"
          ]
        }
      ]
    },
    {
      "cell_type": "code",
      "source": [
        "def yeschange():\n",
        "  mylist = [1,2,3]\n",
        "  rnd.shuffle(mylist)\n",
        "\n",
        "  #set up for goats and prize\n",
        "  doors = ['goat','goat', \"goat\"]\n",
        "  doors[mylist.index(3)] = 'prize'\n",
        "\n",
        "  #lets player choose\n",
        "  choice = 0\n",
        "\n",
        "  #create a sublist\n",
        "  toshow = doors[1:3]\n",
        "  doortoshow = toshow.index(\"goat\")\n",
        "\n",
        "  if(doortoshow == 0):\n",
        "    if(doors[2] == 'prize'):\n",
        "      return True\n",
        "    else:\n",
        "      return False\n",
        "  elif(doortoshow == 1):\n",
        "    if(doors[1] == 'prize'):\n",
        "      return True\n",
        "    else:\n",
        "      return False\n",
        "\n",
        "def measurenochange():\n",
        "  total = 0\n",
        "  for i in range(100000):\n",
        "    if(yeschange()):\n",
        "      total = total + 1\n",
        "  print(total/100000)\n",
        "\n",
        "measurenochange()\n",
        "\n",
        "print(doortoshow)\n",
        "print(doors)\n",
        "print(mylist)\n",
        "print(mylist.index(3))"
      ],
      "metadata": {
        "colab": {
          "base_uri": "https://localhost:8080/",
          "height": 254
        },
        "id": "C0W9fH9J4DxO",
        "outputId": "615c845d-1ffd-438e-8002-46e9f9eb7e54"
      },
      "execution_count": 15,
      "outputs": [
        {
          "output_type": "stream",
          "name": "stdout",
          "text": [
            "0.66592\n"
          ]
        },
        {
          "output_type": "error",
          "ename": "NameError",
          "evalue": "ignored",
          "traceback": [
            "\u001b[0;31m---------------------------------------------------------------------------\u001b[0m",
            "\u001b[0;31mNameError\u001b[0m                                 Traceback (most recent call last)",
            "\u001b[0;32m<ipython-input-15-fed9c09655ce>\u001b[0m in \u001b[0;36m<module>\u001b[0;34m()\u001b[0m\n\u001b[1;32m     34\u001b[0m \u001b[0mmeasurenochange\u001b[0m\u001b[0;34m(\u001b[0m\u001b[0;34m)\u001b[0m\u001b[0;34m\u001b[0m\u001b[0;34m\u001b[0m\u001b[0m\n\u001b[1;32m     35\u001b[0m \u001b[0;34m\u001b[0m\u001b[0m\n\u001b[0;32m---> 36\u001b[0;31m \u001b[0mprint\u001b[0m\u001b[0;34m(\u001b[0m\u001b[0mdoortoshow\u001b[0m\u001b[0;34m)\u001b[0m\u001b[0;34m\u001b[0m\u001b[0;34m\u001b[0m\u001b[0m\n\u001b[0m\u001b[1;32m     37\u001b[0m \u001b[0mprint\u001b[0m\u001b[0;34m(\u001b[0m\u001b[0mdoors\u001b[0m\u001b[0;34m)\u001b[0m\u001b[0;34m\u001b[0m\u001b[0;34m\u001b[0m\u001b[0m\n\u001b[1;32m     38\u001b[0m \u001b[0mprint\u001b[0m\u001b[0;34m(\u001b[0m\u001b[0mmylist\u001b[0m\u001b[0;34m)\u001b[0m\u001b[0;34m\u001b[0m\u001b[0;34m\u001b[0m\u001b[0m\n",
            "\u001b[0;31mNameError\u001b[0m: name 'doortoshow' is not defined"
          ]
        }
      ]
    }
  ]
}